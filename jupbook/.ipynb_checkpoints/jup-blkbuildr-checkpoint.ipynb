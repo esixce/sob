{
 "cells": [
  {
   "cell_type": "code",
   "execution_count": 1,
   "id": "9d6f973a-2d6d-40f3-b279-473ced204229",
   "metadata": {},
   "outputs": [],
   "source": [
    "# https://learnmeabitcoin.com/technical/transaction/"
   ]
  },
  {
   "cell_type": "code",
   "execution_count": 13,
   "id": "106f5a00-744d-4145-82b7-a2e3479e7ab1",
   "metadata": {},
   "outputs": [],
   "source": [
    "import os\n",
    "import json\n"
   ]
  },
  {
   "cell_type": "code",
   "execution_count": 14,
   "id": "e616b6f4-cf48-4d0e-be6c-2495391f90c6",
   "metadata": {},
   "outputs": [],
   "source": [
    "import hashlib \n"
   ]
  },
  {
   "cell_type": "code",
   "execution_count": null,
   "id": "9ab5f6f9-a695-4589-9308-7bc86cfaae06",
   "metadata": {},
   "outputs": [],
   "source": []
  },
  {
   "cell_type": "code",
   "execution_count": 15,
   "id": "bbb803b5-a208-4057-aa8d-78e6724581e2",
   "metadata": {},
   "outputs": [],
   "source": [
    "class Block: \n",
    "    def __init__(self, data, previous_hash): \n",
    "        \"\"\" \n",
    "        Initializes a new Block object with  \n",
    "        the given data and previous hash. \n",
    "        \"\"\"\n",
    "        self.data = data \n",
    "        self.previous_hash = previous_hash \n",
    "        self.nonce = 0\n",
    "        self.hash = self.calculate_hash() \n",
    "  \n",
    "    def calculate_hash(self): \n",
    "        \"\"\" \n",
    "        Calculates the SHA-256 hash of the  \n",
    "        block's data, previous hash, and nonce. \n",
    "        \"\"\"\n",
    "        sha = hashlib.sha256() \n",
    "        sha.update(str(self.data).encode('utf-8') + \n",
    "                   str(self.previous_hash).encode('utf-8') + \n",
    "                   str(self.nonce).encode('utf-8')) \n",
    "        return sha.hexdigest() \n",
    "  \n",
    "    def mine_block(self, difficulty): \n",
    "        \"\"\" \n",
    "        Mines the block using the Proof-of-Work algorithm  \n",
    "        with the given difficulty level. \n",
    "        \"\"\"\n",
    "        while self.hash[0:difficulty] != \"0\" * difficulty: \n",
    "            self.nonce += 1\n",
    "            self.hash = self.calculate_hash() \n",
    "  \n",
    "        print(\"Block mined:\", self.hash) "
   ]
  },
  {
   "cell_type": "code",
   "execution_count": null,
   "id": "f9eec341-eb1a-4d29-b548-f5f1b44a2e85",
   "metadata": {},
   "outputs": [],
   "source": []
  },
  {
   "cell_type": "code",
   "execution_count": 16,
   "id": "501bcae4-0547-45c7-bf5a-7cd5dfd665d1",
   "metadata": {},
   "outputs": [],
   "source": [
    "class Prevout:\n",
    "    def __init__(self, scriptpubkey, scriptpubkey_asm, scriptpubkey_type, scriptpubkey_address, value):\n",
    "        self.scriptpubkey = scriptpubkey\n",
    "        self.scriptpubkey_asm = scriptpubkey_asm\n",
    "        self.scriptpubkey_type = scriptpubkey_type\n",
    "        self.scriptpubkey_address = scriptpubkey_address\n",
    "        self.value = value\n",
    "\n",
    "    def __str__(self):\n",
    "        return f\"Prevout: scriptpubkey={self.scriptpubkey}, scriptpubkey_asm={self.scriptpubkey_asm}, scriptpubkey_type={self.scriptpubkey_type}, scriptpubkey_address={self.scriptpubkey_address}, value={self.value}\"\n",
    "\n",
    "class Vin:\n",
    "    def __init__(self, txid, vout, prevout, scriptsig, scriptsig_asm, witness, is_coinbase, sequence):\n",
    "        self.txid = txid\n",
    "        self.vout = vout\n",
    "        self.prevout = prevout\n",
    "        self.scriptsig = scriptsig\n",
    "        self.scriptsig_asm = scriptsig_asm\n",
    "        self.witness = witness\n",
    "        self.is_coinbase = is_coinbase\n",
    "        self.sequence = sequence\n",
    "\n",
    "    def __str__(self):\n",
    "        return f\"Vin: txid={self.txid}, vout={self.vout}, prevout={self.prevout}, scriptsig={self.scriptsig}, scriptsig_asm={self.scriptsig_asm}, witness={self.witness}, is_coinbase={self.is_coinbase}, sequence={self.sequence}\"\n",
    "\n",
    "class Vout:\n",
    "    def __init__(self, scriptpubkey, scriptpubkey_asm, scriptpubkey_type, scriptpubkey_address, value):\n",
    "        self.scriptpubkey = scriptpubkey\n",
    "        self.scriptpubkey_asm = scriptpubkey_asm\n",
    "        self.scriptpubkey_type = scriptpubkey_type\n",
    "        self.scriptpubkey_address = scriptpubkey_address\n",
    "        self.value = value\n",
    "\n",
    "    def __str__(self):\n",
    "        return f\"Vout: scriptpubkey={self.scriptpubkey}, scriptpubkey_asm={self.scriptpubkey_asm}, scriptpubkey_type={self.scriptpubkey_type}, scriptpubkey_address={self.scriptpubkey_address}, value={self.value}\"\n",
    "\n",
    "class Txn:\n",
    "    def __init__(self, txid, version, locktime, vin, vout, fee, weight):\n",
    "        self.txid = txid\n",
    "        self.version = version\n",
    "        self.locktime = locktime\n",
    "        self.vin = vin\n",
    "        self.vout = vout\n",
    "        self.fee = fee\n",
    "        self.fee_rate = fee / weight\n",
    "        self.weight = weight\n",
    "\n",
    "    def __str__(self):\n",
    "        vin_str = \"\\n\".join(str(v) for v in self.vin)\n",
    "        vout_str = \"\\n\".join(str(v) for v in self.vout)\n",
    "        return f\"Txid: {self.txid}, version: {self.version}, locktime: {self.locktime}, fee: {self.fee}, weight: {self.weight}\\nVin:\\n{vin_str}\\nVout:\\n{vout_str}\"\n"
   ]
  },
  {
   "cell_type": "code",
   "execution_count": 17,
   "id": "3cad5758-9c53-441e-81d7-1da6f2b3e95d",
   "metadata": {},
   "outputs": [],
   "source": [
    "def read_directory(directory):\n",
    "    \"\"\"\n",
    "    Read transaction data from JSON files in the specified directory.\n",
    "\n",
    "    Parameters:\n",
    "    - directory (str): The directory containing JSON files.\n",
    "\n",
    "    Returns:\n",
    "    - dict: A dictionary where keys are filenames (without the .json extension) and values are the corresponding transaction data.\n",
    "    \"\"\"\n",
    "    tx_data = {}\n",
    "\n",
    "    # Iterate over all files in the directory\n",
    "    for filename in os.listdir(directory):\n",
    "        file_path = os.path.join(directory, filename)\n",
    "        if os.path.isfile(file_path) and filename.endswith(\".json\"):\n",
    "            try:\n",
    "                # Read JSON data from the file\n",
    "                with open(file_path, \"r\") as file:\n",
    "                    json_data = json.load(file)\n",
    "                    # Parse transaction data using parse_transaction function\n",
    "                    transaction = parse_transaction(filename, json_data)\n",
    "                    # Store transaction object in the dictionary with filename (without extension) as key\n",
    "                    tx_data[filename[:-5]] = transaction\n",
    "            except (FileNotFoundError, json.JSONDecodeError) as e:\n",
    "                print(f\"Error reading file {filename}: {e}\")\n",
    "\n",
    "    return tx_data\n",
    "    \n",
    "def parse_transaction(filename, json_data):\n",
    "    txid = filename\n",
    "    version = json_data.get(\"version\")\n",
    "    locktime = json_data.get(\"locktime\")\n",
    "    \n",
    "    vin = [Vin(\n",
    "        txid=input_data.get(\"txid\"),\n",
    "        vout=input_data.get(\"vout\"),\n",
    "        prevout=Prevout(**input_data.get(\"prevout\", {})),\n",
    "        scriptsig=input_data.get(\"scriptsig\"),\n",
    "        scriptsig_asm=input_data.get(\"scriptsig_asm\"),\n",
    "        witness=input_data.get(\"witness\", []),\n",
    "        is_coinbase=input_data.get(\"is_coinbase\", False),\n",
    "        sequence=input_data.get(\"sequence\")\n",
    "    ) for input_data in json_data.get(\"vin\", [])]\n",
    "\n",
    "    vout = [Vout(\n",
    "        scriptpubkey=output_data.get(\"scriptpubkey\"),\n",
    "        scriptpubkey_asm=output_data.get(\"scriptpubkey_asm\"),\n",
    "        scriptpubkey_type=output_data.get(\"scriptpubkey_type\"),\n",
    "        scriptpubkey_address=output_data.get(\"scriptpubkey_address\"),\n",
    "        value=output_data.get(\"value\")\n",
    "    ) for output_data in json_data.get(\"vout\", [])]\n",
    "\n",
    "    fee = calculate_fee(vin, vout)\n",
    "    weight = calculate_txn_weight(json_data)\n",
    "\n",
    "    return Txn(txid, version, locktime, vin, vout, fee, weight)\n",
    "\n",
    "def calculate_fee(vin, vout):\n",
    "    \"\"\"\n",
    "    Calculate the fee rate for a given transaction.\n",
    "\n",
    "    Parameters:\n",
    "    - transaction (Transaction): The transaction object.\n",
    "\n",
    "    Returns:\n",
    "    - float: The fee rate of the transaction.\n",
    "    \"\"\"\n",
    "    total_input_value = sum(vin.prevout.value for vin in vin)\n",
    "    total_output_value = sum(vout.value for vout in vout)\n",
    "    fee = total_input_value - total_output_value\n",
    "    return fee\n",
    "\n",
    "def calculate_txn_weight(json_data):\n",
    "    \"\"\"\n",
    "    Calculate the weight of a given transaction.\n",
    "\n",
    "    Parameters:\n",
    "    - json_data (dict): The JSON data representing the transaction.\n",
    "\n",
    "    Returns:\n",
    "    - int: The weight of the transaction.\n",
    "    \"\"\"\n",
    "    # Calculate the size of non-witness data\n",
    "    non_witness_size = sum(len(json.dumps(item)) for item in [\n",
    "        json_data.get(\"version\"),\n",
    "        json_data.get(\"locktime\"),\n",
    "        json_data.get(\"vin\"),\n",
    "        json_data.get(\"vout\")\n",
    "    ])\n",
    "\n",
    "    # Calculate the size of witness data\n",
    "    witness_size = sum(len(json.dumps(item)) for item in json_data.get(\"vin\", []) if item.get(\"witness\"))\n",
    "\n",
    "    # Calculate the weight\n",
    "    weight = 4 * non_witness_size + witness_size\n",
    "    return weight\n"
   ]
  },
  {
   "cell_type": "code",
   "execution_count": null,
   "id": "93d6f023-0aaf-444f-952f-2bfa87cfc884",
   "metadata": {},
   "outputs": [],
   "source": [
    "# For legacy transactions the weight would be the bytes of the transaction on disk \n",
    "# times 4.   For segwit you weight the version, the inputs, outputs and the locktime \n",
    "# bytes times four while discounting the new segwit parts(the marker, the flag and \n",
    "# the witness) to just 1x.  Taproot would be the same as segwit with the new fields \n",
    "# discounted.  Segwit had the side effect of increasing the blocksize to around 2mb \n",
    "# on disk (4 weight units) because typically segwit transactions had roughly half \n",
    "# the bytes in the witness.   The ordinal folks and their transaction have much \n",
    "# more witness data which is why recenlty we have seen block much closer to 4 mb on \n",
    "# disk and 4 weight units because in the ordinal transaction a much higher \n",
    "# percentage of the transaction is in the witness"
   ]
  },
  {
   "cell_type": "code",
   "execution_count": null,
   "id": "dd21f59a-b9ff-46f9-bf26-86753e678330",
   "metadata": {},
   "outputs": [],
   "source": []
  },
  {
   "cell_type": "code",
   "execution_count": 18,
   "id": "89d64bec-e3ad-403c-8bae-0ce8826ba2a4",
   "metadata": {},
   "outputs": [],
   "source": [
    "transactions = read_directory(\"mempool\")\n",
    " "
   ]
  },
  {
   "cell_type": "code",
   "execution_count": 19,
   "id": "bc23a509-1d0c-41bd-97c4-b5c2a8f32d80",
   "metadata": {},
   "outputs": [
    {
     "name": "stdout",
     "output_type": "stream",
     "text": [
      "7cd041411276a4b9d0ea004e6dd149f42cb09bd02ca5dda6851b3df068749b2d Txid: 7cd041411276a4b9d0ea004e6dd149f42cb09bd02ca5dda6851b3df068749b2d.json, version: 1, locktime: 0, fee: 3833, weight: 5669\n",
      "Vin:\n",
      "Vin: txid=2bd47d0c8947dc44d858226c4def55dda2e2b3475e0969d34cbdf3830f1a9eda, vout=1, prevout=Prevout: scriptpubkey=00145e9d91bb6cdff6d1d74bbf3a229ace6cd737a7fb, scriptpubkey_asm=OP_0 OP_PUSHBYTES_20 5e9d91bb6cdff6d1d74bbf3a229ace6cd737a7fb, scriptpubkey_type=v0_p2wpkh, scriptpubkey_address=bc1qt6werwmvmlmdr46thuaz9xkwdntn0flm370wv7, value=2090236167, scriptsig=, scriptsig_asm=, witness=['3045022100b19a5bdf7cfdf47729a356948e86a8419c131a032da60f481d00d2b433535bae022024e20ba4c81f6841c451bab382b7290a20220ec14f90f579d14477d05d41410b01', '03bf03167f89c3b904f59b62966d6f75e03c95d6d1a8aa48209017940608970284'], is_coinbase=False, sequence=4294967293\n",
      "Vout:\n",
      "Vout: scriptpubkey=a9140665e4babb8675e8eb1e4f8e9ffd67feb5d0429387, scriptpubkey_asm=OP_HASH160 OP_PUSHBYTES_20 0665e4babb8675e8eb1e4f8e9ffd67feb5d04293 OP_EQUAL, scriptpubkey_type=p2sh, scriptpubkey_address=32Gr3Nqz3H2uWbJeutzBxC1me4Dm3Rtoz1, value=100000\n",
      "Vout: scriptpubkey=00142099b785f1314b332575d8750802f8dac9b29998, scriptpubkey_asm=OP_0 OP_PUSHBYTES_20 2099b785f1314b332575d8750802f8dac9b29998, scriptpubkey_type=v0_p2wpkh, scriptpubkey_address=bc1qyzvm0p03x99nxft4mp6ssqhcmtym9xvcwncvxa, value=2090132334\n",
      "c990d29bd10828ba40991b687362f532df79903424647dd1f9a5e2ace3edabca Txid: c990d29bd10828ba40991b687362f532df79903424647dd1f9a5e2ace3edabca.json, version: 2, locktime: 0, fee: 1417, weight: 4972\n",
      "Vin:\n",
      "Vin: txid=2d4d450afe9432440531531c06b407a65fac6378bc68bf9b7bdf5f610cf9a352, vout=20, prevout=Prevout: scriptpubkey=5120d23997971ce91dbeb905c221cc62555a42f10d3a28e8ff54e1bf2a12f21e7a77, scriptpubkey_asm=OP_PUSHNUM_1 OP_PUSHBYTES_32 d23997971ce91dbeb905c221cc62555a42f10d3a28e8ff54e1bf2a12f21e7a77, scriptpubkey_type=v1_p2tr, scriptpubkey_address=bc1p6gue09cuaywmawg9cgsuccj4tfp0zrf69r50748phu4p9us70fmsdnv0qr, value=1711, scriptsig=, scriptsig_asm=, witness=['02', '750063036f726401010a746578742f706c61696e00367b2270223a226272632d3230222c226f70223a226d696e74222c227469636b223a2261616161222c22616d74223a223130303030227d6851', 'c0aebc56c5fa371114651c8f87c8cc8c20e039b37ddeb69b9b7d668729908a1378'], is_coinbase=False, sequence=4294967295\n",
      "Vout:\n",
      "Vout: scriptpubkey=0014a40897ac0756778584e7dbe457cca54abc6daf4c, scriptpubkey_asm=OP_0 OP_PUSHBYTES_20 a40897ac0756778584e7dbe457cca54abc6daf4c, scriptpubkey_type=v0_p2wpkh, scriptpubkey_address=bc1q5syf0tq82emctp88m0j90n99f27xmt6v2f79lx, value=294\n",
      "119604185a31e515e86ba0aec70559e7169600eab5adf943039b0a8b794b40df Txid: 119604185a31e515e86ba0aec70559e7169600eab5adf943039b0a8b794b40df.json, version: 2, locktime: 834424, fee: 1562, weight: 5635\n",
      "Vin:\n",
      "Vin: txid=faa8ce5f3bc7ef6972bd21cb3a5e5162835f4e64f272fadb6e0cb7feda2847ec, vout=1, prevout=Prevout: scriptpubkey=0014eb763232c2f243353e6efdaa15067927d774b805, scriptpubkey_asm=OP_0 OP_PUSHBYTES_20 eb763232c2f243353e6efdaa15067927d774b805, scriptpubkey_type=v0_p2wpkh, scriptpubkey_address=bc1qadmryvkz7fpn20nwlk4p2pneylthfwq9s0zrv8, value=112585, scriptsig=, scriptsig_asm=, witness=['3044022024a618ac050cb347b6c0565913aedc553259988b02755e6a31aea4f0875c85ac022059ddb8207ab3c15f82635e0ecf32e64586201de1c37a90681dc9f4605c4ab2f601', '023d9b77c72ef060c17626f10596c59c73da5cb69949470f1963d93579d0f7ff6d'], is_coinbase=False, sequence=4294967293\n",
      "Vout:\n",
      "Vout: scriptpubkey=0014c451d335eb1e3bfabf0687c38597a36150d2beb9, scriptpubkey_asm=OP_0 OP_PUSHBYTES_20 c451d335eb1e3bfabf0687c38597a36150d2beb9, scriptpubkey_type=v0_p2wpkh, scriptpubkey_address=bc1qc3gaxd0trcal40cxslpct9arv9gd904ez3segs, value=40956\n",
      "Vout: scriptpubkey=a9143f28933b48121a90703233fdc74fef99ec1284f987, scriptpubkey_asm=OP_HASH160 OP_PUSHBYTES_20 3f28933b48121a90703233fdc74fef99ec1284f9 OP_EQUAL, scriptpubkey_type=p2sh, scriptpubkey_address=37Sy6qZVeNtTfwtGNLBgcUnxJPjs3oyvPZ, value=70067\n"
     ]
    }
   ],
   "source": [
    "counter = 0\n",
    "\n",
    "for key, value in transactions.items():\n",
    "    print(key, value)\n",
    "    counter += 1\n",
    "    if counter == 3:\n",
    "        break"
   ]
  },
  {
   "cell_type": "code",
   "execution_count": 20,
   "id": "051cd160-5c6c-4a7f-ab3c-5a04df2fc198",
   "metadata": {},
   "outputs": [],
   "source": [
    "def transaction_types(transaction):\n",
    "    \"\"\"This function extracts the transaction types.\"\"\"\n",
    "    # Define a set to store transaction types\n",
    "    txn_typs = set()\n",
    "\n",
    "    # Iterate through each transaction in the mempool\n",
    "    for filename, transaction in transactions.items():\n",
    "        for vin in transaction.vin:\n",
    "            txn_typs.add(vin.prevout.scriptpubkey_type)\n",
    "        for vout in transaction.vout:\n",
    "            txn_typs.add(vout.scriptpubkey_type)\n",
    "\n",
    "    # Print the list of transaction types\n",
    "    print(\"Transaction Types:\")\n",
    "    for txn_type in txn_typs:\n",
    "        print(txn_type)\n",
    "\n",
    "    return txn_typs"
   ]
  },
  {
   "cell_type": "code",
   "execution_count": 21,
   "id": "64149c17-f129-447c-a17d-6f3f4a5dc81a",
   "metadata": {},
   "outputs": [
    {
     "name": "stdout",
     "output_type": "stream",
     "text": [
      "Transaction Types:\n",
      "p2pkh\n",
      "v0_p2wsh\n",
      "unknown\n",
      "v0_p2wpkh\n",
      "p2sh\n",
      "op_return\n",
      "v1_p2tr\n"
     ]
    }
   ],
   "source": [
    "txn_types = transaction_types(transactions)"
   ]
  },
  {
   "cell_type": "code",
   "execution_count": null,
   "id": "bffc4abc-1973-46ac-b41f-af272366a88b",
   "metadata": {},
   "outputs": [],
   "source": []
  },
  {
   "cell_type": "code",
   "execution_count": null,
   "id": "2d0a57c8-22f1-4f03-81f1-4b84c17e7ae8",
   "metadata": {},
   "outputs": [],
   "source": [
    "# for p2wpkh in the chain code class so once you have that part you can get \n",
    "# the witness and the public key from the raw transaction data and use the \n",
    "# ecdsa module to verify the signature. "
   ]
  },
  {
   "cell_type": "code",
   "execution_count": 23,
   "id": "b1cd849f-6410-4a51-a4e3-c1b14cec87b3",
   "metadata": {},
   "outputs": [],
   "source": [
    "from ecdsa import VerifyingKey, SECP256k1"
   ]
  },
  {
   "cell_type": "code",
   "execution_count": 24,
   "id": "bb497a0e-c9f2-4394-af57-5910121d8108",
   "metadata": {},
   "outputs": [],
   "source": [
    "def verify_p2wpkh(txn):\n",
    "    \"\"\"\n",
    "    Verify P2WPKH transactions by checking the signature using ECDSA.\n",
    "\n",
    "    Parameters:\n",
    "    - txn (Txn): The transaction object.\n",
    "\n",
    "    Returns:\n",
    "    - bool: True if the transaction is valid, False otherwise.\n",
    "    \"\"\"\n",
    "    for vin in txn.vin:\n",
    "        if vin.prevout.scriptpubkey_type == \"p2wpkh\":\n",
    "            witness = vin.witness\n",
    "            if len(witness) != 2:\n",
    "                print(f\"Invalid witness data for transaction {txn.txid}\")\n",
    "                return False\n",
    "\n",
    "            signature = witness[0]\n",
    "            public_key = witness[1]\n",
    "\n",
    "            try:\n",
    "                # Convert the public key to a verifying key\n",
    "                verifying_key = VerifyingKey.from_string(bytes.fromhex(public_key), curve=SECP256k1)\n",
    "                # Verify the signature\n",
    "                is_valid = verifying_key.verify(bytes.fromhex(signature), bytes.fromhex(txn.txid))\n",
    "                if not is_valid:\n",
    "                    print(f\"Invalid signature for transaction {txn.txid}\")\n",
    "                    return False\n",
    "            except Exception as e:\n",
    "                print(f\"Error verifying P2WPKH transaction {txn.txid}: {e}\")\n",
    "                return False\n",
    "\n",
    "    return True"
   ]
  },
  {
   "cell_type": "code",
   "execution_count": 31,
   "id": "1658b7c4-bde5-48bf-88ff-7a86b4a5029a",
   "metadata": {},
   "outputs": [],
   "source": [
    "def verify_p2wsh(txn):\n",
    "    \"\"\"\n",
    "    Verify P2WSH transactions by checking the script using ECDSA.\n",
    "\n",
    "    Parameters:\n",
    "    - txn (Txn): The transaction object.\n",
    "\n",
    "    Returns:\n",
    "    - bool: True if the transaction is valid, False otherwise.\n",
    "    \"\"\"\n",
    "    for vin in txn.vin:\n",
    "        if vin.prevout.scriptpubkey_type == \"p2wsh\":\n",
    "            witness = vin.witness\n",
    "            if len(witness) < 1:\n",
    "                print(f\"Invalid witness data for transaction {txn.txid}\")\n",
    "                return False\n",
    "\n",
    "            script = witness[-1]  # Last item in witness is the redeem script\n",
    "\n",
    "            try:\n",
    "                # Here you would execute your script validation logic\n",
    "                # For simplicity, let's assume it always returns True\n",
    "                is_valid_script = True\n",
    "                if not is_valid_script:\n",
    "                    print(f\"Invalid script for transaction {txn.txid}\")\n",
    "                    return False\n",
    "            except Exception as e:\n",
    "                print(f\"Error verifying P2WSH transaction {txn.txid}: {e}\")\n",
    "                return False\n",
    "\n",
    "    return True\n"
   ]
  },
  {
   "cell_type": "code",
   "execution_count": 32,
   "id": "955883b5-85cb-448b-b3d5-5183ac3738cf",
   "metadata": {},
   "outputs": [],
   "source": [
    "# Loop through transactions\n",
    "for txid, txn in transactions.items():\n",
    "    # print(f\"Verifying transaction {txid}...\")\n",
    "    # if verify_p2wpkh(txn):\n",
    "    #     print(f\"Transaction {txid} is valid.\")\n",
    "    # else:\n",
    "    #     print(f\"Transaction {txid} is not valid.\")\n",
    "    if not verify_p2wpkh(txn):\n",
    "        print(f\"Transaction {txid} is not valid.\")\n",
    "    if not verify_p2wsh(txn):\n",
    "        print(f\"Transaction {txid} is not valid.\")"
   ]
  },
  {
   "cell_type": "code",
   "execution_count": null,
   "id": "84d36a5f-48fc-4d31-bd04-4cb80fa94fe9",
   "metadata": {},
   "outputs": [],
   "source": []
  },
  {
   "cell_type": "code",
   "execution_count": null,
   "id": "0eb90668-a2cb-42d4-bb40-f5116b6db1e2",
   "metadata": {},
   "outputs": [],
   "source": []
  },
  {
   "cell_type": "code",
   "execution_count": 36,
   "id": "d179e188-d032-4e45-99a1-9f9010a6391e",
   "metadata": {},
   "outputs": [
    {
     "name": "stdout",
     "output_type": "stream",
     "text": [
      "count 42\n"
     ]
    }
   ],
   "source": [
    "count = 0\n",
    "for txid, txn in transactions.items():\n",
    "    for vout in txn.vout:\n",
    "        if vout.scriptpubkey_type == \"unknown\":\n",
    "            # print(f\"Transaction {txid} has unknown type.\")\n",
    "            count += 1\n",
    "            break\n",
    "print(f\"count {count}\")\n"
   ]
  },
  {
   "cell_type": "code",
   "execution_count": null,
   "id": "e9fcdc02-8522-44d9-830c-a83c0090641b",
   "metadata": {},
   "outputs": [],
   "source": []
  },
  {
   "cell_type": "code",
   "execution_count": null,
   "id": "06c7f64a-0a64-4fad-8c78-21c5edbe7ed4",
   "metadata": {},
   "outputs": [],
   "source": []
  },
  {
   "cell_type": "code",
   "execution_count": null,
   "id": "30cfe830-7b68-403d-953d-34149fa4658f",
   "metadata": {},
   "outputs": [],
   "source": []
  },
  {
   "cell_type": "code",
   "execution_count": null,
   "id": "13b9e4d4-ebce-4607-baac-353ac60a3f3e",
   "metadata": {},
   "outputs": [],
   "source": []
  },
  {
   "cell_type": "code",
   "execution_count": null,
   "id": "dbdbaf35-5b46-407c-a7bb-7fd6b691773b",
   "metadata": {},
   "outputs": [],
   "source": []
  },
  {
   "cell_type": "code",
   "execution_count": null,
   "id": "c7bac7ed-fb59-41c7-aa79-27e0ec00c9f5",
   "metadata": {},
   "outputs": [],
   "source": []
  },
  {
   "cell_type": "code",
   "execution_count": null,
   "id": "5424a819-da6a-4e4e-998d-276bb9a5fdb1",
   "metadata": {},
   "outputs": [],
   "source": [
    "from typing import List\n",
    "\n",
    "def get_commitment_hash(outpoint: bytes, scriptcode: bytes, value: int, outputs: List[bytes]) -> bytes:\n",
    "    \"\"\"Given a transaction outpoint, scriptcode, value, and outputs, compute the commitment hash\"\"\"\n",
    "    def dsha256(data: bytes) -> bytes:\n",
    "        return hashlib.new(\"sha256\", hashlib.new(\"sha256\", data).digest()).digest()\n",
    "\n",
    "    # Version (4-byte little endian)\n",
    "    version = b'\\x02\\x00\\x00\\x00'\n",
    "\n",
    "    # All TX input outpoints (only one in our case)\n",
    "    hash_prevouts = dsha256(outpoint)\n",
    "\n",
    "    # Sequence of output being spent (always default for us)\n",
    "    sequence = b\"\\xff\\xff\\xff\\xff\"\n",
    "    hash_sequence = dsha256(sequence)\n",
    "\n",
    "    # Value of output being spent (8-byte little endian)\n",
    "    value_bytes = value.to_bytes(8, byteorder=\"little\")\n",
    "\n",
    "    # All TX outputs\n",
    "    hash_outputs = dsha256(b\"\".join(outputs))\n",
    "\n",
    "    # Locktime (always default for us)\n",
    "    locktime = b\"\\x00\\x00\\x00\\x00\"\n",
    "\n",
    "    # SIGHASH_ALL (always default for us)\n",
    "    sighash_type = b\"\\x01\\x00\\x00\\x00\"\n",
    "\n",
    "    # Concatenate all the components\n",
    "    commitment_data = version + hash_prevouts + hash_sequence + outpoint + scriptcode + value_bytes + sequence + hash_outputs + locktime + sighash_type\n",
    "\n",
    "    return dsha256(commitment_data)"
   ]
  },
  {
   "cell_type": "code",
   "execution_count": null,
   "id": "85431f2d-17a9-4558-9ab4-262a1bbbcc74",
   "metadata": {},
   "outputs": [],
   "source": [
    "count = 0\n",
    "# Iterate over each transaction\n",
    "for filename, transaction in transactions.items():\n",
    "    # Extract relevant data from the transaction\n",
    "    outpoint = transaction.vin[0].prevout.scriptpubkey.encode('utf-8')  # Encode as bytes\n",
    "    scriptcode = transaction.vout[0].scriptpubkey.encode('utf-8')  # Encode as bytes\n",
    "    value = transaction.vout[0].value\n",
    "    outputs = [vout.scriptpubkey.encode('utf-8') for vout in transaction.vout]  # Encode as bytes\n",
    "\n",
    "    # Compute the commitment hash\n",
    "    commitment_hash = get_commitment_hash(outpoint, scriptcode, value, outputs)\n",
    "\n",
    "    # Print the commitment hash for each transaction\n",
    "    print(f\"Transaction: {filename}, Commitment Hash: {commitment_hash.hex()}\")\n",
    "\n",
    "    count += 1\n",
    "    if count == 10:\n",
    "        break"
   ]
  },
  {
   "cell_type": "code",
   "execution_count": null,
   "id": "e9ab0bf3-e8aa-4141-ad73-f7bcd31b00e3",
   "metadata": {},
   "outputs": [],
   "source": []
  },
  {
   "cell_type": "code",
   "execution_count": null,
   "id": "5968cab5-ecbe-45f8-87f6-68bbb07194e8",
   "metadata": {},
   "outputs": [],
   "source": []
  },
  {
   "cell_type": "code",
   "execution_count": null,
   "id": "42f8c2c3-6d76-474e-900b-f151fb402ba5",
   "metadata": {},
   "outputs": [],
   "source": []
  },
  {
   "cell_type": "code",
   "execution_count": null,
   "id": "254fc5e7-ae0f-4c4c-bab5-8ee7978de0aa",
   "metadata": {},
   "outputs": [],
   "source": []
  },
  {
   "cell_type": "code",
   "execution_count": null,
   "id": "01ef309c-be2d-4869-9d6f-762ec3ad93e3",
   "metadata": {},
   "outputs": [],
   "source": []
  },
  {
   "cell_type": "code",
   "execution_count": null,
   "id": "1968c99b-2b46-4b29-b4a1-cb106e034af0",
   "metadata": {},
   "outputs": [],
   "source": []
  },
  {
   "cell_type": "code",
   "execution_count": null,
   "id": "0baeaf8d-8769-4fd9-b7f4-1014b4c1a56f",
   "metadata": {},
   "outputs": [],
   "source": []
  },
  {
   "cell_type": "code",
   "execution_count": 22,
   "id": "73fdecd2-7f21-41e0-b92d-e39a8e668392",
   "metadata": {},
   "outputs": [
    {
     "ename": "AttributeError",
     "evalue": "'str' object has no attribute 'fee'",
     "output_type": "error",
     "traceback": [
      "\u001b[0;31m---------------------------------------------------------------------------\u001b[0m",
      "\u001b[0;31mAttributeError\u001b[0m                            Traceback (most recent call last)",
      "Input \u001b[0;32mIn [22]\u001b[0m, in \u001b[0;36m<cell line: 1>\u001b[0;34m()\u001b[0m\n\u001b[0;32m----> 1\u001b[0m sorted_transactions \u001b[38;5;241m=\u001b[39m \u001b[38;5;28;43msorted\u001b[39;49m\u001b[43m(\u001b[49m\u001b[43mtransactions\u001b[49m\u001b[43m,\u001b[49m\u001b[43m \u001b[49m\u001b[43mkey\u001b[49m\u001b[38;5;241;43m=\u001b[39;49m\u001b[38;5;28;43;01mlambda\u001b[39;49;00m\u001b[43m \u001b[49m\u001b[43mtx\u001b[49m\u001b[43m:\u001b[49m\u001b[43m \u001b[49m\u001b[43mtx\u001b[49m\u001b[38;5;241;43m.\u001b[39;49m\u001b[43mfee\u001b[49m\u001b[43m,\u001b[49m\u001b[43m \u001b[49m\u001b[43mreverse\u001b[49m\u001b[38;5;241;43m=\u001b[39;49m\u001b[38;5;28;43;01mTrue\u001b[39;49;00m\u001b[43m)\u001b[49m\n\u001b[1;32m      2\u001b[0m \u001b[38;5;28mprint\u001b[39m(\u001b[38;5;124m\"\u001b[39m\u001b[38;5;124mSorted Transactions by Fee Descending:\u001b[39m\u001b[38;5;124m\"\u001b[39m, sorted_transactions)\n",
      "Input \u001b[0;32mIn [22]\u001b[0m, in \u001b[0;36m<lambda>\u001b[0;34m(tx)\u001b[0m\n\u001b[0;32m----> 1\u001b[0m sorted_transactions \u001b[38;5;241m=\u001b[39m \u001b[38;5;28msorted\u001b[39m(transactions, key\u001b[38;5;241m=\u001b[39m\u001b[38;5;28;01mlambda\u001b[39;00m tx: \u001b[43mtx\u001b[49m\u001b[38;5;241;43m.\u001b[39;49m\u001b[43mfee\u001b[49m, reverse\u001b[38;5;241m=\u001b[39m\u001b[38;5;28;01mTrue\u001b[39;00m)\n\u001b[1;32m      2\u001b[0m \u001b[38;5;28mprint\u001b[39m(\u001b[38;5;124m\"\u001b[39m\u001b[38;5;124mSorted Transactions by Fee Descending:\u001b[39m\u001b[38;5;124m\"\u001b[39m, sorted_transactions)\n",
      "\u001b[0;31mAttributeError\u001b[0m: 'str' object has no attribute 'fee'"
     ]
    }
   ],
   "source": [
    "sorted_transactions = sorted(transactions, key=lambda tx: tx.fee, reverse=True)\n",
    "print(\"Sorted Transactions by Fee Descending:\", sorted_transactions)"
   ]
  },
  {
   "cell_type": "code",
   "execution_count": null,
   "id": "bc64669b-d870-42c0-a7bd-bbc3be2f7135",
   "metadata": {},
   "outputs": [],
   "source": []
  },
  {
   "cell_type": "code",
   "execution_count": null,
   "id": "00adfbaa-b210-4416-b841-c23ca592889e",
   "metadata": {},
   "outputs": [],
   "source": []
  },
  {
   "cell_type": "code",
   "execution_count": null,
   "id": "7520f01e-c2d8-49b0-a297-a16e54452304",
   "metadata": {},
   "outputs": [],
   "source": []
  },
  {
   "cell_type": "code",
   "execution_count": null,
   "id": "21258a7e-e496-4e40-9a2c-e367df87cc30",
   "metadata": {},
   "outputs": [],
   "source": []
  },
  {
   "cell_type": "code",
   "execution_count": null,
   "id": "6e7094be-82eb-4749-bd50-ec0682c4a230",
   "metadata": {},
   "outputs": [],
   "source": []
  },
  {
   "cell_type": "code",
   "execution_count": null,
   "id": "0118189a-4fe1-4f46-94c6-a51355d2016b",
   "metadata": {},
   "outputs": [],
   "source": []
  },
  {
   "cell_type": "code",
   "execution_count": 10,
   "id": "3a7de2f9-13e3-4a3d-b1f5-dfbc2d18f21e",
   "metadata": {},
   "outputs": [],
   "source": [
    "class Block:\n",
    "    def __init__(self):\n",
    "        self.transactions = []\n",
    "        self.total_fee = 0\n",
    "        self.total_weight = 0"
   ]
  },
  {
   "cell_type": "code",
   "execution_count": 11,
   "id": "a0f95330-70df-4fd5-ba52-e81eb37f73a6",
   "metadata": {},
   "outputs": [],
   "source": [
    "def branch_and_bound(tx_data, max_weight):\n",
    "    best_block = Block()\n",
    "    \n",
    "    def backtrack(block, tx_indices):\n",
    "        nonlocal best_block\n",
    "        \n",
    "        # Calculate current block's fee and weight\n",
    "        block.total_fee = sum(tx.fee for tx in block.transactions)\n",
    "        block.total_weight = sum(tx.weight for tx in block.transactions)\n",
    "        \n",
    "        # Update best block if current block has higher fee and within weight limit\n",
    "        if block.total_fee > best_block.total_fee and block.total_weight <= max_weight:\n",
    "            best_block = block\n",
    "        \n",
    "        # Explore all possible transactions to add\n",
    "        for tx in tx_data.values():\n",
    "            if tx not in block.transactions:\n",
    "                new_block = Block()\n",
    "                new_block.transactions = block.transactions + [tx]\n",
    "                backtrack(new_block, new_block.transactions)\n",
    "    \n",
    "    # Start with an empty block and explore all possible transactions to add\n",
    "    backtrack(Block(), [])\n",
    "    \n",
    "    return best_block\n"
   ]
  },
  {
   "cell_type": "code",
   "execution_count": 12,
   "id": "71f0fab7-08af-43dc-8923-925d2348453f",
   "metadata": {},
   "outputs": [
    {
     "ename": "KeyboardInterrupt",
     "evalue": "",
     "output_type": "error",
     "traceback": [
      "\u001b[0;31m---------------------------------------------------------------------------\u001b[0m",
      "\u001b[0;31mKeyboardInterrupt\u001b[0m                         Traceback (most recent call last)",
      "Input \u001b[0;32mIn [12]\u001b[0m, in \u001b[0;36m<cell line: 4>\u001b[0;34m()\u001b[0m\n\u001b[1;32m      2\u001b[0m tx_data \u001b[38;5;241m=\u001b[39m read_directory(\u001b[38;5;124m\"\u001b[39m\u001b[38;5;124mmempool\u001b[39m\u001b[38;5;124m\"\u001b[39m)\n\u001b[1;32m      3\u001b[0m max_weight \u001b[38;5;241m=\u001b[39m \u001b[38;5;241m4000000\u001b[39m  \u001b[38;5;66;03m# Assuming maximum block weight constraint\u001b[39;00m\n\u001b[0;32m----> 4\u001b[0m best_block \u001b[38;5;241m=\u001b[39m \u001b[43mbranch_and_bound\u001b[49m\u001b[43m(\u001b[49m\u001b[43mtx_data\u001b[49m\u001b[43m,\u001b[49m\u001b[43m \u001b[49m\u001b[43mmax_weight\u001b[49m\u001b[43m)\u001b[49m\n\u001b[1;32m      5\u001b[0m \u001b[38;5;28mprint\u001b[39m(\u001b[38;5;124m\"\u001b[39m\u001b[38;5;124mBest Block Transactions:\u001b[39m\u001b[38;5;124m\"\u001b[39m, best_block\u001b[38;5;241m.\u001b[39mtransactions)\n\u001b[1;32m      6\u001b[0m \u001b[38;5;28mprint\u001b[39m(\u001b[38;5;124m\"\u001b[39m\u001b[38;5;124mTotal Fee:\u001b[39m\u001b[38;5;124m\"\u001b[39m, best_block\u001b[38;5;241m.\u001b[39mtotal_fee)\n",
      "Input \u001b[0;32mIn [11]\u001b[0m, in \u001b[0;36mbranch_and_bound\u001b[0;34m(tx_data, max_weight)\u001b[0m\n\u001b[1;32m     20\u001b[0m             backtrack(new_block, new_block\u001b[38;5;241m.\u001b[39mtransactions)\n\u001b[1;32m     22\u001b[0m \u001b[38;5;66;03m# Start with an empty block and explore all possible transactions to add\u001b[39;00m\n\u001b[0;32m---> 23\u001b[0m \u001b[43mbacktrack\u001b[49m\u001b[43m(\u001b[49m\u001b[43mBlock\u001b[49m\u001b[43m(\u001b[49m\u001b[43m)\u001b[49m\u001b[43m,\u001b[49m\u001b[43m \u001b[49m\u001b[43m[\u001b[49m\u001b[43m]\u001b[49m\u001b[43m)\u001b[49m\n\u001b[1;32m     25\u001b[0m \u001b[38;5;28;01mreturn\u001b[39;00m best_block\n",
      "Input \u001b[0;32mIn [11]\u001b[0m, in \u001b[0;36mbranch_and_bound.<locals>.backtrack\u001b[0;34m(block, tx_indices)\u001b[0m\n\u001b[1;32m     18\u001b[0m new_block \u001b[38;5;241m=\u001b[39m Block()\n\u001b[1;32m     19\u001b[0m new_block\u001b[38;5;241m.\u001b[39mtransactions \u001b[38;5;241m=\u001b[39m block\u001b[38;5;241m.\u001b[39mtransactions \u001b[38;5;241m+\u001b[39m [tx]\n\u001b[0;32m---> 20\u001b[0m \u001b[43mbacktrack\u001b[49m\u001b[43m(\u001b[49m\u001b[43mnew_block\u001b[49m\u001b[43m,\u001b[49m\u001b[43m \u001b[49m\u001b[43mnew_block\u001b[49m\u001b[38;5;241;43m.\u001b[39;49m\u001b[43mtransactions\u001b[49m\u001b[43m)\u001b[49m\n",
      "Input \u001b[0;32mIn [11]\u001b[0m, in \u001b[0;36mbranch_and_bound.<locals>.backtrack\u001b[0;34m(block, tx_indices)\u001b[0m\n\u001b[1;32m     18\u001b[0m new_block \u001b[38;5;241m=\u001b[39m Block()\n\u001b[1;32m     19\u001b[0m new_block\u001b[38;5;241m.\u001b[39mtransactions \u001b[38;5;241m=\u001b[39m block\u001b[38;5;241m.\u001b[39mtransactions \u001b[38;5;241m+\u001b[39m [tx]\n\u001b[0;32m---> 20\u001b[0m \u001b[43mbacktrack\u001b[49m\u001b[43m(\u001b[49m\u001b[43mnew_block\u001b[49m\u001b[43m,\u001b[49m\u001b[43m \u001b[49m\u001b[43mnew_block\u001b[49m\u001b[38;5;241;43m.\u001b[39;49m\u001b[43mtransactions\u001b[49m\u001b[43m)\u001b[49m\n",
      "    \u001b[0;31m[... skipping similar frames: branch_and_bound.<locals>.backtrack at line 20 (1804 times)]\u001b[0m\n",
      "Input \u001b[0;32mIn [11]\u001b[0m, in \u001b[0;36mbranch_and_bound.<locals>.backtrack\u001b[0;34m(block, tx_indices)\u001b[0m\n\u001b[1;32m     18\u001b[0m new_block \u001b[38;5;241m=\u001b[39m Block()\n\u001b[1;32m     19\u001b[0m new_block\u001b[38;5;241m.\u001b[39mtransactions \u001b[38;5;241m=\u001b[39m block\u001b[38;5;241m.\u001b[39mtransactions \u001b[38;5;241m+\u001b[39m [tx]\n\u001b[0;32m---> 20\u001b[0m \u001b[43mbacktrack\u001b[49m\u001b[43m(\u001b[49m\u001b[43mnew_block\u001b[49m\u001b[43m,\u001b[49m\u001b[43m \u001b[49m\u001b[43mnew_block\u001b[49m\u001b[38;5;241;43m.\u001b[39;49m\u001b[43mtransactions\u001b[49m\u001b[43m)\u001b[49m\n",
      "Input \u001b[0;32mIn [11]\u001b[0m, in \u001b[0;36mbranch_and_bound.<locals>.backtrack\u001b[0;34m(block, tx_indices)\u001b[0m\n\u001b[1;32m     15\u001b[0m \u001b[38;5;66;03m# Explore all possible transactions to add\u001b[39;00m\n\u001b[1;32m     16\u001b[0m \u001b[38;5;28;01mfor\u001b[39;00m tx \u001b[38;5;129;01min\u001b[39;00m tx_data\u001b[38;5;241m.\u001b[39mvalues():\n\u001b[0;32m---> 17\u001b[0m     \u001b[38;5;28;01mif\u001b[39;00m tx \u001b[38;5;129;01mnot\u001b[39;00m \u001b[38;5;129;01min\u001b[39;00m block\u001b[38;5;241m.\u001b[39mtransactions:\n\u001b[1;32m     18\u001b[0m         new_block \u001b[38;5;241m=\u001b[39m Block()\n\u001b[1;32m     19\u001b[0m         new_block\u001b[38;5;241m.\u001b[39mtransactions \u001b[38;5;241m=\u001b[39m block\u001b[38;5;241m.\u001b[39mtransactions \u001b[38;5;241m+\u001b[39m [tx]\n",
      "\u001b[0;31mKeyboardInterrupt\u001b[0m: "
     ]
    }
   ],
   "source": [
    "# Usage example:\n",
    "tx_data = read_directory(\"mempool\")\n",
    "max_weight = 4000000  # Assuming maximum block weight constraint\n",
    "best_block = branch_and_bound(tx_data, max_weight)\n",
    "print(\"Best Block Transactions:\", best_block.transactions)\n",
    "print(\"Total Fee:\", best_block.total_fee)\n",
    "print(\"Total Weight:\", best_block.total_weight)\n"
   ]
  },
  {
   "cell_type": "code",
   "execution_count": null,
   "id": "05ae1245-d6c9-4881-9d1a-22ec708cf5ea",
   "metadata": {},
   "outputs": [],
   "source": []
  },
  {
   "cell_type": "code",
   "execution_count": null,
   "id": "2643274a-4d62-4dda-88b6-3f187bd31369",
   "metadata": {},
   "outputs": [],
   "source": []
  },
  {
   "cell_type": "code",
   "execution_count": 12,
   "id": "3dd344a9-e5d5-4f5f-a7c8-cf918002d745",
   "metadata": {},
   "outputs": [],
   "source": [
    "def branch_and_bound(tx_data, max_weight):\n",
    "    best_block = Block()\n",
    "    stack = [(Block(), [])]  # Initialize stack with initial block and transactions\n",
    "    \n",
    "    while stack:\n",
    "        block, tx_indices = stack.pop()  # Pop the block and transactions from the stack\n",
    "        \n",
    "        # Calculate current block's fee and weight\n",
    "        block.total_fee = sum(tx.fee for tx in block.transactions)\n",
    "        block.total_weight = sum(tx.weight for tx in block.transactions)\n",
    "        \n",
    "        # Update best block if current block has higher fee and within weight limit\n",
    "        if block.total_fee > best_block.total_fee and block.total_weight <= max_weight:\n",
    "            best_block = block\n",
    "        \n",
    "        # Explore all possible transactions to add\n",
    "        for tx in tx_data.values():\n",
    "            if tx not in block.transactions:\n",
    "                new_block = Block()\n",
    "                new_block.transactions = block.transactions + [tx]\n",
    "                stack.append((new_block, new_block.transactions))\n",
    "    \n",
    "    return best_block\n"
   ]
  },
  {
   "cell_type": "code",
   "execution_count": null,
   "id": "6aec506c-7551-40e6-b5ff-c0442c69c0f1",
   "metadata": {},
   "outputs": [],
   "source": []
  },
  {
   "cell_type": "code",
   "execution_count": null,
   "id": "bdda4f56-8f5b-4385-aa00-664ba790c2c4",
   "metadata": {},
   "outputs": [],
   "source": []
  },
  {
   "cell_type": "code",
   "execution_count": 11,
   "id": "afd853c5-81fd-4ddb-b153-6468ac4777a7",
   "metadata": {},
   "outputs": [],
   "source": [
    "class Block:\n",
    "    def __init__(self):\n",
    "        self.transactions = []\n",
    "        self.total_fee = 0\n",
    "        self.total_weight = 0\n",
    "\n",
    "def greedy_knapsack(tx_data, max_weight):\n",
    "    # Sort transactions by fee/weight ratio in descending order\n",
    "    sorted_tx = sorted(tx_data.values(), key=lambda tx: tx.fee / tx.weight, reverse=True)\n",
    "    \n",
    "    block = Block()\n",
    "    for tx in sorted_tx:\n",
    "        if block.total_weight + tx.weight <= max_weight:\n",
    "            block.transactions.append(tx)\n",
    "            block.total_fee += tx.fee\n",
    "            block.total_weight += tx.weight\n",
    "    \n",
    "    return block\n"
   ]
  },
  {
   "cell_type": "code",
   "execution_count": 13,
   "id": "10785921-515f-4b09-8a5a-3b8fb3075084",
   "metadata": {},
   "outputs": [
    {
     "name": "stdout",
     "output_type": "stream",
     "text": [
      "Total Fee: 7629673\n",
      "Total Weight: 3996479\n"
     ]
    }
   ],
   "source": [
    "# Usage example:\n",
    "tx_data = read_directory(\"mempool\")\n",
    "max_weight = 4000000  # 4 million weight units\n",
    "best_block = greedy_knapsack(tx_data, max_weight)\n",
    "# print(\"Best Block Transactions:\", best_block.transactions)\n",
    "print(\"Total Fee:\", best_block.total_fee)\n",
    "print(\"Total Weight:\", best_block.total_weight)\n"
   ]
  },
  {
   "cell_type": "code",
   "execution_count": null,
   "id": "730601b2-ef25-4e87-8e9c-dc5673a1431f",
   "metadata": {},
   "outputs": [],
   "source": []
  },
  {
   "cell_type": "code",
   "execution_count": null,
   "id": "9c7a6cfc-3572-4f96-a3d6-1a2d6702c229",
   "metadata": {},
   "outputs": [],
   "source": []
  },
  {
   "cell_type": "code",
   "execution_count": 14,
   "id": "d1b0721b-4a1b-4c0f-8a98-800c3ba53229",
   "metadata": {},
   "outputs": [
    {
     "name": "stdout",
     "output_type": "stream",
     "text": [
      "Coinbase Transaction: {'version': 1, 'locktime': 0, 'vin': [{'coinbase': 'Banks on the brink', 'sequence': 4294967295}], 'vout': [{'value': 16.75, 'scriptpubkey': 'miner_address'}]}\n"
     ]
    }
   ],
   "source": [
    "class CoinbaseTransaction:\n",
    "    def __init__(self, block_height, coinbase_data, reward, total_fees):\n",
    "        self.block_height = block_height\n",
    "        self.coinbase_data = coinbase_data\n",
    "        self.reward = reward\n",
    "        self.total_fees = total_fees\n",
    "    \n",
    "    def generate_transaction(self):\n",
    "        # Create the input for the coinbase transaction\n",
    "        coinbase_input = {\n",
    "            \"coinbase\": self.coinbase_data,  # Arbitrary data\n",
    "            \"sequence\": 0xffffffff  # Arbitrary value\n",
    "        }\n",
    "        \n",
    "        # Calculate the total value for the coinbase transaction\n",
    "        total_value = self.reward + self.total_fees\n",
    "        \n",
    "        # Create the output for the coinbase transaction\n",
    "        coinbase_output = {\n",
    "            \"value\": total_value,\n",
    "            \"scriptpubkey\": \"miner_address\"  # Address where the miner receives the reward\n",
    "        }\n",
    "        \n",
    "        # Create the coinbase transaction\n",
    "        coinbase_txn = {\n",
    "            \"version\": 1,  # Transaction version\n",
    "            \"locktime\": 0,  # Locktime\n",
    "            \"vin\": [coinbase_input],  # Input\n",
    "            \"vout\": [coinbase_output]  # Output\n",
    "        }\n",
    "        \n",
    "        return coinbase_txn\n",
    "\n",
    "# Usage example:\n",
    "block_height = 123456  # Example block height\n",
    "coinbase_data = \"Banks on the brink\"  # Example coinbase data\n",
    "reward = 6.25  # Block reward for Bitcoin (in BTC)\n",
    "total_fees = 10.5  # Example total fees collected from transactions (in BTC)\n",
    "coinbase_txn = CoinbaseTransaction(block_height, coinbase_data, reward, total_fees).generate_transaction()\n",
    "print(\"Coinbase Transaction:\", coinbase_txn)\n"
   ]
  },
  {
   "cell_type": "code",
   "execution_count": null,
   "id": "7d179e8f-9b58-4f78-b36f-b2fa98738764",
   "metadata": {},
   "outputs": [],
   "source": []
  },
  {
   "cell_type": "code",
   "execution_count": null,
   "id": "ef5695fd-8353-4e63-8a19-86b37d1fe4e5",
   "metadata": {},
   "outputs": [],
   "source": []
  },
  {
   "cell_type": "code",
   "execution_count": 19,
   "id": "615cb0e3-2eed-4211-a3ac-2f36e0d2dcae",
   "metadata": {},
   "outputs": [
    {
     "name": "stdout",
     "output_type": "stream",
     "text": [
      "PoW Result Hash: 0000ba105cc03c4c6d1274ede005ba86fc4eb8066db1d9586559db8587796604\n"
     ]
    }
   ],
   "source": [
    "import hashlib\n",
    "\n",
    "class Block:\n",
    "    def __init__(self, previous_hash, coinbase_transaction, transactions, nonce):\n",
    "        self.previous_hash = previous_hash\n",
    "        self.coinbase_transaction = coinbase_transaction\n",
    "        self.transactions = transactions\n",
    "        self.nonce = nonce\n",
    "\n",
    "    def compute_hash(self):\n",
    "        block_header = self.previous_hash + str(self.transactions) + str(self.nonce)\n",
    "        return hashlib.sha256(block_header.encode()).hexdigest()\n",
    "\n",
    "def proof_of_work(block, difficulty):\n",
    "    target = \"0\" * difficulty  # Target value with leading zeros\n",
    "    while True:\n",
    "        block_hash = block.compute_hash()\n",
    "        if block_hash.startswith(target):\n",
    "            return block_hash\n",
    "        else:\n",
    "            block.nonce += 1  # Increment nonce and try again\n",
    "\n",
    "# Example usage:\n",
    "previous_hash = \"0000000000000000000000000000000000000000000000000000000000000000\"  # Genesis block hash\n",
    "nonce = 0  # Initial nonce\n",
    "difficulty = 4  # Example difficulty (number of leading zeros required in the hash)\n",
    "\n",
    "# Create a block\n",
    "block = Block(previous_hash, coinbase_txn, best_block.transactions, nonce)\n",
    "\n",
    "# Perform PoW\n",
    "result_hash = proof_of_work(block, difficulty)\n",
    "print(\"PoW Result Hash:\", result_hash)\n"
   ]
  },
  {
   "cell_type": "code",
   "execution_count": null,
   "id": "e1c7ca5a-af16-4d20-9d3f-8b1998a4f528",
   "metadata": {},
   "outputs": [],
   "source": []
  },
  {
   "cell_type": "code",
   "execution_count": null,
   "id": "293a9d86-f720-4615-8d8b-4245bbca9ac4",
   "metadata": {},
   "outputs": [],
   "source": []
  },
  {
   "cell_type": "code",
   "execution_count": null,
   "id": "8111bfdb-89de-4bfd-96bb-ee398ac3da64",
   "metadata": {},
   "outputs": [],
   "source": []
  },
  {
   "cell_type": "code",
   "execution_count": null,
   "id": "92266245-eca8-421d-bb09-57d8e9e41675",
   "metadata": {},
   "outputs": [],
   "source": []
  },
  {
   "cell_type": "code",
   "execution_count": 37,
   "id": "784ebfc0-6793-469f-84a8-c174b86eada0",
   "metadata": {},
   "outputs": [],
   "source": []
  },
  {
   "cell_type": "code",
   "execution_count": 39,
   "id": "699b40de-7fb9-4308-afca-cb4a43e8c42d",
   "metadata": {},
   "outputs": [
    {
     "name": "stdout",
     "output_type": "stream",
     "text": [
      "Transaction: 7cd041411276a4b9d0ea004e6dd149f42cb09bd02ca5dda6851b3df068749b2d, Commitment Hash: 5b9362899340b1d50237ed8bc7a21bf76bd129ce94f222baa7f0653d73305f49\n",
      "Transaction: c990d29bd10828ba40991b687362f532df79903424647dd1f9a5e2ace3edabca, Commitment Hash: 0212ea5387d3b5232aefecaaeaa1655a98ca3c59b0641dada5db994fb26f3b27\n",
      "Transaction: 119604185a31e515e86ba0aec70559e7169600eab5adf943039b0a8b794b40df, Commitment Hash: 4420b4dbd4c51c0c1dd852edc02fc48f462b66836ec99d0ddb5fb069a67d7427\n",
      "Transaction: c3576a146165bdd8ecbfc79f18c54c8c51abd46bc0d093b01e640b6692372a93, Commitment Hash: ddfdae4fbf7fa6694aefeb1fea8cfccffb0b3cdc2ffb2f4550359705c3e1e78b\n",
      "Transaction: 9fbc187e552b9e93406df86a4ebac8b67ccc0c4c321d0297edd8ffb87d4f5a45, Commitment Hash: a1463b92339e14805d23dcce8e74fceeb952899bc68557b777fad3a4155402a4\n",
      "Transaction: 7de645056d100ee9d175ec61a90acc3d67812f93a3dae605a94f4db0f7c2a153, Commitment Hash: 58793bb12597bcb9630ae67775f6db708fd9470ed0b035f5069a5a8875d0fa6e\n",
      "Transaction: 19faba5514956cde3a721dbc56ee7b4dcb1a03604c9b8e7dba8c2153e745b291, Commitment Hash: 212cb84c76f82dd952db390780921ab6c60a0eb22236719eecbefcb436ec6604\n",
      "Transaction: c911a6c6c7d5e45649f8e09a1d0cab86304d938cfce0c973042643f5f811b72f, Commitment Hash: 8ef0f65f38486f31a44a87f5c7f532ae8e12f28da07081484cbd2447ee4132af\n",
      "Transaction: 0b8580c2be0bfaf8ae7e144f98152d3f381aefcc1a1261a3e385b156bf7cd0b0, Commitment Hash: bfbbc1e2ce8634ae38e1bfcd6bf698caf199416bbd8794b168341a244805603e\n",
      "Transaction: e2205d6df8d7d5366a8fe400b4c1d0871e5e7f03ba5eed2ab380907b62dd62ab, Commitment Hash: 711732627f6a345ce7b2c07d8a1b69766547c7cf0f3ea96c6a93e13b249f5da4\n"
     ]
    }
   ],
   "source": []
  },
  {
   "cell_type": "code",
   "execution_count": null,
   "id": "a74526bd-98da-4643-8f0e-97a84512920d",
   "metadata": {},
   "outputs": [],
   "source": []
  },
  {
   "cell_type": "code",
   "execution_count": null,
   "id": "510186c7-a0a3-49aa-af2a-ced8ea3a1c44",
   "metadata": {},
   "outputs": [],
   "source": []
  },
  {
   "cell_type": "raw",
   "id": "bca1042e-2405-44b7-acbf-c130d3375177",
   "metadata": {},
   "source": []
  },
  {
   "cell_type": "code",
   "execution_count": null,
   "id": "3f4d5775-fae5-4d80-afe5-45e16456be91",
   "metadata": {},
   "outputs": [],
   "source": []
  }
 ],
 "metadata": {
  "kernelspec": {
   "display_name": "Python 3 (ipykernel)",
   "language": "python",
   "name": "python3"
  },
  "language_info": {
   "codemirror_mode": {
    "name": "ipython",
    "version": 3
   },
   "file_extension": ".py",
   "mimetype": "text/x-python",
   "name": "python",
   "nbconvert_exporter": "python",
   "pygments_lexer": "ipython3",
   "version": "3.10.4"
  }
 },
 "nbformat": 4,
 "nbformat_minor": 5
}
